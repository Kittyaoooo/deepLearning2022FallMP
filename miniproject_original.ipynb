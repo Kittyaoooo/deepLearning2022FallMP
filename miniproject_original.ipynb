{
  "nbformat": 4,
  "nbformat_minor": 0,
  "metadata": {
    "colab": {
      "provenance": [],
      "collapsed_sections": []
    },
    "kernelspec": {
      "name": "python3",
      "display_name": "Python 3"
    },
    "language_info": {
      "name": "python"
    },
    "accelerator": "GPU",
    "gpuClass": "standard",
    "widgets": {
      "application/vnd.jupyter.widget-state+json": {
        "167ed8cdcd1941c6b31377af5e328dbd": {
          "model_module": "@jupyter-widgets/controls",
          "model_name": "HBoxModel",
          "model_module_version": "1.5.0",
          "state": {
            "_dom_classes": [],
            "_model_module": "@jupyter-widgets/controls",
            "_model_module_version": "1.5.0",
            "_model_name": "HBoxModel",
            "_view_count": null,
            "_view_module": "@jupyter-widgets/controls",
            "_view_module_version": "1.5.0",
            "_view_name": "HBoxView",
            "box_style": "",
            "children": [
              "IPY_MODEL_4b273278b3be4f36ab4ad756ee23e821",
              "IPY_MODEL_ca62930153ba40d8af8a0108eb65ef92",
              "IPY_MODEL_5c11ce94c46a48439132df72267ed03b"
            ],
            "layout": "IPY_MODEL_7fb9844a8abb4c248a1077ed1f79859f"
          }
        },
        "4b273278b3be4f36ab4ad756ee23e821": {
          "model_module": "@jupyter-widgets/controls",
          "model_name": "HTMLModel",
          "model_module_version": "1.5.0",
          "state": {
            "_dom_classes": [],
            "_model_module": "@jupyter-widgets/controls",
            "_model_module_version": "1.5.0",
            "_model_name": "HTMLModel",
            "_view_count": null,
            "_view_module": "@jupyter-widgets/controls",
            "_view_module_version": "1.5.0",
            "_view_name": "HTMLView",
            "description": "",
            "description_tooltip": null,
            "layout": "IPY_MODEL_70189f38a2ac4e7681e48059a3d2125e",
            "placeholder": "​",
            "style": "IPY_MODEL_875dca1cb33a4694839cac62ce79c57b",
            "value": "100%"
          }
        },
        "ca62930153ba40d8af8a0108eb65ef92": {
          "model_module": "@jupyter-widgets/controls",
          "model_name": "FloatProgressModel",
          "model_module_version": "1.5.0",
          "state": {
            "_dom_classes": [],
            "_model_module": "@jupyter-widgets/controls",
            "_model_module_version": "1.5.0",
            "_model_name": "FloatProgressModel",
            "_view_count": null,
            "_view_module": "@jupyter-widgets/controls",
            "_view_module_version": "1.5.0",
            "_view_name": "ProgressView",
            "bar_style": "success",
            "description": "",
            "description_tooltip": null,
            "layout": "IPY_MODEL_1fac4b36cf3f41fab36b7ccd66bdba97",
            "max": 170498071,
            "min": 0,
            "orientation": "horizontal",
            "style": "IPY_MODEL_dcf15b85e8fa40df9214e64a11dcaa42",
            "value": 170498071
          }
        },
        "5c11ce94c46a48439132df72267ed03b": {
          "model_module": "@jupyter-widgets/controls",
          "model_name": "HTMLModel",
          "model_module_version": "1.5.0",
          "state": {
            "_dom_classes": [],
            "_model_module": "@jupyter-widgets/controls",
            "_model_module_version": "1.5.0",
            "_model_name": "HTMLModel",
            "_view_count": null,
            "_view_module": "@jupyter-widgets/controls",
            "_view_module_version": "1.5.0",
            "_view_name": "HTMLView",
            "description": "",
            "description_tooltip": null,
            "layout": "IPY_MODEL_62510756e3b44c329d5f03ad5b1f245c",
            "placeholder": "​",
            "style": "IPY_MODEL_c62fb8a8bec74b8a913260df5fdfad41",
            "value": " 170498071/170498071 [00:04&lt;00:00, 81578616.87it/s]"
          }
        },
        "7fb9844a8abb4c248a1077ed1f79859f": {
          "model_module": "@jupyter-widgets/base",
          "model_name": "LayoutModel",
          "model_module_version": "1.2.0",
          "state": {
            "_model_module": "@jupyter-widgets/base",
            "_model_module_version": "1.2.0",
            "_model_name": "LayoutModel",
            "_view_count": null,
            "_view_module": "@jupyter-widgets/base",
            "_view_module_version": "1.2.0",
            "_view_name": "LayoutView",
            "align_content": null,
            "align_items": null,
            "align_self": null,
            "border": null,
            "bottom": null,
            "display": null,
            "flex": null,
            "flex_flow": null,
            "grid_area": null,
            "grid_auto_columns": null,
            "grid_auto_flow": null,
            "grid_auto_rows": null,
            "grid_column": null,
            "grid_gap": null,
            "grid_row": null,
            "grid_template_areas": null,
            "grid_template_columns": null,
            "grid_template_rows": null,
            "height": null,
            "justify_content": null,
            "justify_items": null,
            "left": null,
            "margin": null,
            "max_height": null,
            "max_width": null,
            "min_height": null,
            "min_width": null,
            "object_fit": null,
            "object_position": null,
            "order": null,
            "overflow": null,
            "overflow_x": null,
            "overflow_y": null,
            "padding": null,
            "right": null,
            "top": null,
            "visibility": null,
            "width": null
          }
        },
        "70189f38a2ac4e7681e48059a3d2125e": {
          "model_module": "@jupyter-widgets/base",
          "model_name": "LayoutModel",
          "model_module_version": "1.2.0",
          "state": {
            "_model_module": "@jupyter-widgets/base",
            "_model_module_version": "1.2.0",
            "_model_name": "LayoutModel",
            "_view_count": null,
            "_view_module": "@jupyter-widgets/base",
            "_view_module_version": "1.2.0",
            "_view_name": "LayoutView",
            "align_content": null,
            "align_items": null,
            "align_self": null,
            "border": null,
            "bottom": null,
            "display": null,
            "flex": null,
            "flex_flow": null,
            "grid_area": null,
            "grid_auto_columns": null,
            "grid_auto_flow": null,
            "grid_auto_rows": null,
            "grid_column": null,
            "grid_gap": null,
            "grid_row": null,
            "grid_template_areas": null,
            "grid_template_columns": null,
            "grid_template_rows": null,
            "height": null,
            "justify_content": null,
            "justify_items": null,
            "left": null,
            "margin": null,
            "max_height": null,
            "max_width": null,
            "min_height": null,
            "min_width": null,
            "object_fit": null,
            "object_position": null,
            "order": null,
            "overflow": null,
            "overflow_x": null,
            "overflow_y": null,
            "padding": null,
            "right": null,
            "top": null,
            "visibility": null,
            "width": null
          }
        },
        "875dca1cb33a4694839cac62ce79c57b": {
          "model_module": "@jupyter-widgets/controls",
          "model_name": "DescriptionStyleModel",
          "model_module_version": "1.5.0",
          "state": {
            "_model_module": "@jupyter-widgets/controls",
            "_model_module_version": "1.5.0",
            "_model_name": "DescriptionStyleModel",
            "_view_count": null,
            "_view_module": "@jupyter-widgets/base",
            "_view_module_version": "1.2.0",
            "_view_name": "StyleView",
            "description_width": ""
          }
        },
        "1fac4b36cf3f41fab36b7ccd66bdba97": {
          "model_module": "@jupyter-widgets/base",
          "model_name": "LayoutModel",
          "model_module_version": "1.2.0",
          "state": {
            "_model_module": "@jupyter-widgets/base",
            "_model_module_version": "1.2.0",
            "_model_name": "LayoutModel",
            "_view_count": null,
            "_view_module": "@jupyter-widgets/base",
            "_view_module_version": "1.2.0",
            "_view_name": "LayoutView",
            "align_content": null,
            "align_items": null,
            "align_self": null,
            "border": null,
            "bottom": null,
            "display": null,
            "flex": null,
            "flex_flow": null,
            "grid_area": null,
            "grid_auto_columns": null,
            "grid_auto_flow": null,
            "grid_auto_rows": null,
            "grid_column": null,
            "grid_gap": null,
            "grid_row": null,
            "grid_template_areas": null,
            "grid_template_columns": null,
            "grid_template_rows": null,
            "height": null,
            "justify_content": null,
            "justify_items": null,
            "left": null,
            "margin": null,
            "max_height": null,
            "max_width": null,
            "min_height": null,
            "min_width": null,
            "object_fit": null,
            "object_position": null,
            "order": null,
            "overflow": null,
            "overflow_x": null,
            "overflow_y": null,
            "padding": null,
            "right": null,
            "top": null,
            "visibility": null,
            "width": null
          }
        },
        "dcf15b85e8fa40df9214e64a11dcaa42": {
          "model_module": "@jupyter-widgets/controls",
          "model_name": "ProgressStyleModel",
          "model_module_version": "1.5.0",
          "state": {
            "_model_module": "@jupyter-widgets/controls",
            "_model_module_version": "1.5.0",
            "_model_name": "ProgressStyleModel",
            "_view_count": null,
            "_view_module": "@jupyter-widgets/base",
            "_view_module_version": "1.2.0",
            "_view_name": "StyleView",
            "bar_color": null,
            "description_width": ""
          }
        },
        "62510756e3b44c329d5f03ad5b1f245c": {
          "model_module": "@jupyter-widgets/base",
          "model_name": "LayoutModel",
          "model_module_version": "1.2.0",
          "state": {
            "_model_module": "@jupyter-widgets/base",
            "_model_module_version": "1.2.0",
            "_model_name": "LayoutModel",
            "_view_count": null,
            "_view_module": "@jupyter-widgets/base",
            "_view_module_version": "1.2.0",
            "_view_name": "LayoutView",
            "align_content": null,
            "align_items": null,
            "align_self": null,
            "border": null,
            "bottom": null,
            "display": null,
            "flex": null,
            "flex_flow": null,
            "grid_area": null,
            "grid_auto_columns": null,
            "grid_auto_flow": null,
            "grid_auto_rows": null,
            "grid_column": null,
            "grid_gap": null,
            "grid_row": null,
            "grid_template_areas": null,
            "grid_template_columns": null,
            "grid_template_rows": null,
            "height": null,
            "justify_content": null,
            "justify_items": null,
            "left": null,
            "margin": null,
            "max_height": null,
            "max_width": null,
            "min_height": null,
            "min_width": null,
            "object_fit": null,
            "object_position": null,
            "order": null,
            "overflow": null,
            "overflow_x": null,
            "overflow_y": null,
            "padding": null,
            "right": null,
            "top": null,
            "visibility": null,
            "width": null
          }
        },
        "c62fb8a8bec74b8a913260df5fdfad41": {
          "model_module": "@jupyter-widgets/controls",
          "model_name": "DescriptionStyleModel",
          "model_module_version": "1.5.0",
          "state": {
            "_model_module": "@jupyter-widgets/controls",
            "_model_module_version": "1.5.0",
            "_model_name": "DescriptionStyleModel",
            "_view_count": null,
            "_view_module": "@jupyter-widgets/base",
            "_view_module_version": "1.2.0",
            "_view_name": "StyleView",
            "description_width": ""
          }
        }
      }
    }
  },
  "cells": [
    {
      "cell_type": "code",
      "execution_count": 1,
      "metadata": {
        "id": "GxLK3RKHpdzx"
      },
      "outputs": [],
      "source": [
        "import torch\n",
        "import torch.nn as nn\n",
        "import torch.nn.functional as F\n",
        "import torchvision\n",
        "from torchvision import datasets, models, transforms\n",
        "import matplotlib.pyplot as plt"
      ]
    },
    {
      "cell_type": "code",
      "source": [
        "#data transforms\n",
        "dset_transform = transforms.Compose([\n",
        "    transforms.ToTensor(),\n",
        "    transforms.Normalize([0.4914, 0.4822, 0.4465],\n",
        "                         [0.247, 0.243, 0.261])])\n",
        "\n",
        "batch_size = 64\n",
        "resnet = 'resnet[3,3,3]'\n",
        "trainset = torchvision.datasets.CIFAR10(root='./data', train=True,\n",
        "                                        download=True, transform=dset_transform)\n",
        "\n",
        "testset = torchvision.datasets.CIFAR10(root='./data', train=False,\n",
        "                                       download=True, transform=dset_transform)\n",
        "\n",
        "trainloader = torch.utils.data.DataLoader(trainset, batch_size=batch_size,\n",
        "                                          shuffle=True)\n",
        "\n",
        "testloader = torch.utils.data.DataLoader(testset, batch_size=batch_size,\n",
        "                                         shuffle=False)"
      ],
      "metadata": {
        "colab": {
          "base_uri": "https://localhost:8080/",
          "height": 101,
          "referenced_widgets": [
            "167ed8cdcd1941c6b31377af5e328dbd",
            "4b273278b3be4f36ab4ad756ee23e821",
            "ca62930153ba40d8af8a0108eb65ef92",
            "5c11ce94c46a48439132df72267ed03b",
            "7fb9844a8abb4c248a1077ed1f79859f",
            "70189f38a2ac4e7681e48059a3d2125e",
            "875dca1cb33a4694839cac62ce79c57b",
            "1fac4b36cf3f41fab36b7ccd66bdba97",
            "dcf15b85e8fa40df9214e64a11dcaa42",
            "62510756e3b44c329d5f03ad5b1f245c",
            "c62fb8a8bec74b8a913260df5fdfad41"
          ]
        },
        "id": "KhocZ5Ytpncx",
        "outputId": "a076937b-936a-4a5b-c8e3-fd72ab54b0c6"
      },
      "execution_count": 2,
      "outputs": [
        {
          "output_type": "stream",
          "name": "stdout",
          "text": [
            "Downloading https://www.cs.toronto.edu/~kriz/cifar-10-python.tar.gz to ./data/cifar-10-python.tar.gz\n"
          ]
        },
        {
          "output_type": "display_data",
          "data": {
            "text/plain": [
              "  0%|          | 0/170498071 [00:00<?, ?it/s]"
            ],
            "application/vnd.jupyter.widget-view+json": {
              "version_major": 2,
              "version_minor": 0,
              "model_id": "167ed8cdcd1941c6b31377af5e328dbd"
            }
          },
          "metadata": {}
        },
        {
          "output_type": "stream",
          "name": "stdout",
          "text": [
            "Extracting ./data/cifar-10-python.tar.gz to ./data\n",
            "Files already downloaded and verified\n"
          ]
        }
      ]
    },
    {
      "cell_type": "code",
      "source": [
        "class BasicBlock(nn.Module):  # two conv as a res block\n",
        "\n",
        "    def __init__(self, in_planes, planes, stride=1):\n",
        "        super(BasicBlock, self).__init__()\n",
        "        self.conv1 = nn.Conv2d(\n",
        "            in_planes, planes, kernel_size=3, stride=stride, padding=1, bias=False)  # conv1 3x3 filter\n",
        "        self.bn1 = nn.BatchNorm2d(planes)  # batchnorm\n",
        "        self.conv2 = nn.Conv2d(planes, planes, kernel_size=3,  # conv2\n",
        "                               stride=1, padding=1, bias=False)\n",
        "        self.bn2 = nn.BatchNorm2d(planes)  # batchnorm\n",
        "\n",
        "        self.shortcut = nn.Sequential()  # skip connection\n",
        "        if stride != 1 or in_planes != planes:\n",
        "            self.shortcut = nn.Sequential(\n",
        "                nn.Conv2d(in_planes, planes,\n",
        "                          kernel_size=1, stride=stride, bias=False),\n",
        "                nn.BatchNorm2d(planes)\n",
        "            )\n",
        "\n",
        "    def forward(self, x):\n",
        "        out = F.relu(self.bn1(self.conv1(x)))\n",
        "        out = self.bn2(self.conv2(out))\n",
        "        out += self.shortcut(x)\n",
        "        out = F.relu(out)\n",
        "        return out"
      ],
      "metadata": {
        "id": "w7_J91vZpqDo"
      },
      "execution_count": 3,
      "outputs": []
    },
    {
      "cell_type": "code",
      "source": [
        "class ResNet(nn.Module):\n",
        "    def __init__(self, block, num_blocks, num_classes=10):\n",
        "        super(ResNet, self).__init__()\n",
        "        self.in_planes = 68 # 64\n",
        "        self.conv1 = nn.Conv2d(3, 68, kernel_size=2,\n",
        "                               stride=1, padding=1, bias=False)\n",
        "        self.bn1 = nn.BatchNorm2d(68)\n",
        "        self.layer1 = self._make_layer(block, 68, num_blocks[0], stride=1)\n",
        "        self.layer2 = self._make_layer(block, 136, num_blocks[1], stride=2)\n",
        "        self.layer3 = self._make_layer(block, 272, num_blocks[2], stride=2)\n",
        "        self.linear = nn.Linear(272, num_classes)\n",
        "        self.dropout = nn.Dropout(0)\n",
        "\n",
        "\n",
        "    def _make_layer(self, block, planes, num_blocks, stride):\n",
        "        strides = [stride] + [1] * (num_blocks - 1)\n",
        "        layers = []\n",
        "        for stride in strides:\n",
        "            layers.append(block(self.in_planes, planes, stride))\n",
        "            self.in_planes = planes\n",
        "        return nn.Sequential(*layers)\n",
        "\n",
        "    def forward(self, x):\n",
        "        out = F.relu(self.bn1(self.conv1(x)))\n",
        "        out = self.dropout(out)\n",
        "        out = self.layer1(out)\n",
        "        out = self.dropout(out)\n",
        "        out = self.layer2(out)\n",
        "        out = self.dropout(out)\n",
        "        out = self.layer3(out)\n",
        "        out = self.dropout(out)\n",
        "        out = F.avg_pool2d(out, 7)\n",
        "        out = out.view(out.size(0), -1)\n",
        "        out = self.dropout(out)\n",
        "        out = self.linear(out)\n",
        "        return out\n",
        "\n",
        "\n",
        "def project1_model():\n",
        "    return ResNet(BasicBlock, [3,3,3])  # modify"
      ],
      "metadata": {
        "id": "AnUd_qYQpsG6"
      },
      "execution_count": 4,
      "outputs": []
    },
    {
      "cell_type": "code",
      "source": [
        "import torch.optim as optim\n",
        "\n",
        "model = ResNet(BasicBlock, [3,3,3]).cuda()\n",
        "Loss = nn.CrossEntropyLoss()\n",
        "optimizer = optim.Adadelta(model.parameters(), lr = 0.1, weight_decay=0.0001)"
      ],
      "metadata": {
        "id": "JZYn6xZipulP"
      },
      "execution_count": 5,
      "outputs": []
    },
    {
      "cell_type": "code",
      "source": [
        "def count_parameters(model):\n",
        "    return sum(p.numel() for p in model.parameters() if p.requires_grad)\n",
        "    # torch.numel() returns number of elements in a tensor"
      ],
      "metadata": {
        "id": "DDjQnbLQpwhw"
      },
      "execution_count": 6,
      "outputs": []
    },
    {
      "cell_type": "code",
      "source": [
        "print(count_parameters(model))\n",
        "epochs = 20\n",
        "train_save_loss = []\n",
        "test_save_loss = []\n",
        "train_save_acc = []\n",
        "test_save_acc = []\n",
        "for epoch in range(epochs):\n",
        "    train_loss = 0.0\n",
        "    train_corrects = 0.0\n",
        "    test_loss = 0.0\n",
        "    test_corrects = 0.0\n",
        "\n",
        "    for i, data in enumerate(trainloader):\n",
        "        inputs, labels = data\n",
        "        inputs = inputs.cuda()\n",
        "        labels = labels.cuda()\n",
        "        optimizer.zero_grad()\n",
        "        outputs = model(inputs)\n",
        "        fit = Loss(outputs, labels)\n",
        "        fit.backward()\n",
        "        optimizer.step()\n",
        "\n",
        "        train_loss += fit.item()\n",
        "        train_corrects += (torch.eq(torch.max(outputs, 1)[1], labels).sum()).data.cpu().numpy()\n",
        "    for i, data in enumerate(testloader):\n",
        "        with torch.no_grad():\n",
        "            inputs, labels = data\n",
        "            inputs = inputs.cuda()\n",
        "            labels = labels.cuda()\n",
        "            outputs = model(inputs)\n",
        "            fit = Loss(outputs, labels)\n",
        "            test_loss += fit.item()\n",
        "            test_corrects += (torch.eq(torch.max(outputs, 1)[1], labels).sum()).data.cpu().numpy()\n",
        "\n",
        "    train_loss = train_loss / len(trainloader)\n",
        "    test_loss = test_loss / len(testloader)\n",
        "    train_save_loss.append(train_loss)\n",
        "    test_save_loss.append(test_loss)\n",
        "    train_corrects = train_corrects / len(trainloader.dataset)\n",
        "    train_save_acc.append(train_corrects)\n",
        "    test_corrects = test_corrects / len(testloader.dataset)\n",
        "    test_save_acc.append(test_corrects)\n",
        "    print('Epoch %s, Train loss %s, Test loss %s' % (epoch, train_loss, test_loss))\n",
        "    print(\"Accuracy \", test_corrects)"
      ],
      "metadata": {
        "colab": {
          "base_uri": "https://localhost:8080/",
          "height": 0
        },
        "id": "DZR6KRRUpyiC",
        "outputId": "7711d5f1-a75b-495e-9b47-94793b752722"
      },
      "execution_count": 8,
      "outputs": [
        {
          "output_type": "stream",
          "name": "stdout",
          "text": [
            "4883906\n",
            "Epoch 0, Train loss 0.0001552483219055623, Test loss 0.5943732708217991\n",
            "Accuracy  0.8744\n",
            "Epoch 1, Train loss 0.00014912391088728327, Test loss 0.5918738216541375\n",
            "Accuracy  0.8746\n",
            "Epoch 2, Train loss 0.00015310704079836242, Test loss 0.5969990066661957\n",
            "Accuracy  0.8729\n",
            "Epoch 3, Train loss 0.00015409828199346772, Test loss 0.5837686292969497\n",
            "Accuracy  0.8755\n",
            "Epoch 4, Train loss 0.00014432617762723216, Test loss 0.5819833455192056\n",
            "Accuracy  0.8761\n",
            "Epoch 5, Train loss 0.00015408056760233616, Test loss 0.5861344025203377\n",
            "Accuracy  0.8737\n",
            "Epoch 6, Train loss 0.00015952126383159162, Test loss 0.5795313863048128\n",
            "Accuracy  0.8757\n",
            "Epoch 7, Train loss 0.00015365530338539246, Test loss 0.5737696696238913\n",
            "Accuracy  0.8748\n",
            "Epoch 8, Train loss 0.00015319086148624209, Test loss 0.5734202056458801\n",
            "Accuracy  0.8752\n",
            "Epoch 9, Train loss 0.0001566213261767212, Test loss 0.569039659515308\n",
            "Accuracy  0.8741\n",
            "Epoch 10, Train loss 0.00020800122224977073, Test loss 0.5963545350512122\n",
            "Accuracy  0.8698\n",
            "Epoch 11, Train loss 0.00030999968317315003, Test loss 0.5755992918542236\n",
            "Accuracy  0.8715\n",
            "Epoch 12, Train loss 0.00019388171555881557, Test loss 0.5650646550830003\n",
            "Accuracy  0.8739\n",
            "Epoch 13, Train loss 0.00017183066677523787, Test loss 0.5619041477893568\n",
            "Accuracy  0.8745\n",
            "Epoch 14, Train loss 0.00017377764722352454, Test loss 0.5587516818551501\n",
            "Accuracy  0.8737\n",
            "Epoch 15, Train loss 0.00016735123807780684, Test loss 0.5605487121138603\n",
            "Accuracy  0.8755\n",
            "Epoch 16, Train loss 0.0001780922381800812, Test loss 0.559847829258366\n",
            "Accuracy  0.8736\n",
            "Epoch 17, Train loss 0.000172514793174581, Test loss 0.5566915383764134\n",
            "Accuracy  0.8742\n",
            "Epoch 18, Train loss 0.00017127750645921764, Test loss 0.5546907650627149\n",
            "Accuracy  0.8753\n",
            "Epoch 19, Train loss 0.0001698636413009836, Test loss 0.5536073860564049\n",
            "Accuracy  0.874\n"
          ]
        }
      ]
    },
    {
      "cell_type": "code",
      "source": [
        "# Commented out IPython magic to ensure Python compatibility.\n",
        "import matplotlib.pyplot as plt\n",
        "\n",
        "# %matplotlib inline\n",
        "\n",
        "plt.plot(test_save_acc)\n",
        "plt.plot(test_save_loss)\n",
        "plt.plot(train_save_loss)\n",
        "plt.legend([\"accuracy\",\"test_loss\", \"train_loss\"])\n",
        "plt.title('Loss and Accuracy for '+resnet)\n",
        "plt.savefig(resnet+'.png')\n",
        "torch.save(model.state_dict(), 'project1_model.pt')\n"
      ],
      "metadata": {
        "colab": {
          "base_uri": "https://localhost:8080/",
          "height": 281
        },
        "id": "0FjpY6yDp0kZ",
        "outputId": "05817a62-db55-4c4e-d2cf-12ce52791234"
      },
      "execution_count": 18,
      "outputs": [
        {
          "output_type": "display_data",
          "data": {
            "text/plain": [
              "<Figure size 432x288 with 1 Axes>"
            ],
            "image/png": "[encoded data removed]"
          },
          "metadata": {
            "needs_background": "light"
          }
        }
      ]
    }
  ]
}